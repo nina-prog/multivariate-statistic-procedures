{
 "cells": [
  {
   "cell_type": "markdown",
   "source": [
    "# Excercise 2\n"
   ],
   "metadata": {
    "collapsed": false,
    "pycharm": {
     "name": "#%% md\n"
    }
   }
  },
  {
   "cell_type": "markdown",
   "source": [
    "## 2. Task"
   ],
   "metadata": {
    "collapsed": false,
    "pycharm": {
     "name": "#%% md\n"
    }
   }
  },
  {
   "cell_type": "code",
   "execution_count": 2,
   "outputs": [],
   "source": [
    "import numpy as np"
   ],
   "metadata": {
    "collapsed": false,
    "pycharm": {
     "name": "#%%\n"
    }
   }
  },
  {
   "cell_type": "code",
   "execution_count": 110,
   "outputs": [
    {
     "name": "stdout",
     "output_type": "stream",
     "text": [
      "Das Tensorprodukt von x'=[[ 1 -2  3]] und y'=[[3 2 1]] ist \n",
      " [[ 3  2  1]\n",
      " [-6 -4 -2]\n",
      " [ 9  6  3]]\n"
     ]
    }
   ],
   "source": [
    "x = np.array([[1], [-2], [3]])\n",
    "y = np.array([[3], [2], [1]])\n",
    "\n",
    "tensor_xy = x.dot(np.transpose(y))\n",
    "\n",
    "print(f\"Das Tensorprodukt von x'={np.transpose(x)} und y'={np.transpose(y)} ist \\n {tensor_xy}\")"
   ],
   "metadata": {
    "collapsed": false,
    "pycharm": {
     "name": "#%%\n"
    }
   }
  },
  {
   "cell_type": "markdown",
   "source": [
    "## 3. Task"
   ],
   "metadata": {
    "collapsed": false,
    "pycharm": {
     "name": "#%% md\n"
    }
   }
  },
  {
   "cell_type": "code",
   "execution_count": 118,
   "outputs": [],
   "source": [
    "from scipy import linalg"
   ],
   "metadata": {
    "collapsed": false,
    "pycharm": {
     "name": "#%%\n"
    }
   }
  },
  {
   "cell_type": "code",
   "execution_count": 226,
   "outputs": [
    {
     "name": "stdout",
     "output_type": "stream",
     "text": [
      "Spur von A = 2 \n",
      " ----------------------------------------\n",
      "Determinante von A = -3.0 \n",
      " ----------------------------------------\n",
      "Eigenwerte: lambda1 = 3.0, lambda2 = -1.0\n",
      "Eigenvektoren: v1 = [ 1. -1.], v2 = [1. 1.]\n"
     ]
    }
   ],
   "source": [
    "A = np.array([[1, 2], [2,1]])\n",
    "\n",
    "# a)\n",
    "trace_A = np.trace(A)\n",
    "print(f\"Spur von A = {trace_A}\", \"\\n\", \"-\"*40)\n",
    "\n",
    "# b)\n",
    "det_A = linalg.det(A)\n",
    "print(f\"Determinante von A = {det_A}\", \"\\n\", \"-\"*40)\n",
    "\n",
    "# c)\n",
    "eigvals, eigvecs = np.linalg.eig(A)\n",
    "lambda1, lambda2 = np.round(eigvals[0]), np.round(eigvals[1])\n",
    "vec1, vec2 = np.round(eigvecs[0]), np.round(eigvecs[1])\n",
    "\n",
    "assert det_A == lambda1*lambda2, f\"Houston we got a Problem! {det_A} =! {lambda1} * {lambda2}\"\n",
    "assert trace_A == lambda1+lambda2, f\"Houston we got another Problem! {trace_A} =! {lambda1} + {lambda2}\"\n",
    "\n",
    "print(f\"Eigenwerte: lambda1 = {lambda1}, lambda2 = {lambda2}\")\n",
    "print(f\"Eigenvektoren: v1 = {vec1}, v2 = {vec2}\")"
   ],
   "metadata": {
    "collapsed": false,
    "pycharm": {
     "name": "#%%\n"
    }
   }
  },
  {
   "cell_type": "markdown",
   "source": [
    "# 4. Task"
   ],
   "metadata": {
    "collapsed": false,
    "pycharm": {
     "name": "#%% md\n"
    }
   }
  },
  {
   "cell_type": "code",
   "execution_count": 232,
   "outputs": [
    {
     "name": "stdout",
     "output_type": "stream",
     "text": [
      "Inverse von W: W^-1 = \n",
      "[[ 0.375 -0.125  0.   ]\n",
      " [-0.125  0.375  0.   ]\n",
      " [ 0.     0.     0.4  ]] \n",
      " ----------------------------------------\n",
      "Produkt von X*X' = \n",
      "[[ 1.00000000e+00 -2.49570864e-16  4.58633852e-19]\n",
      " [-2.49570864e-16  1.00000000e+00 -4.58633852e-19]\n",
      " [ 4.58633852e-19 -4.58633852e-19  1.00000000e+00]] \n",
      " ----------------------------------------\n",
      "Inverse von X: X^-1 = \n",
      "[[ 7.07106781e-01  7.07106781e-01  2.84558721e-17]\n",
      " [ 5.77350269e-01 -5.77350269e-01  5.77350269e-01]\n",
      " [ 4.08248290e-01 -4.08248290e-01 -8.16496581e-01]]\n"
     ]
    }
   ],
   "source": [
    "W = np.array([[3, 1, 0], [1, 3, 0] ,[0, 0, 5/2]])\n",
    "X = np.array([[1/np.sqrt(2), 1/np.sqrt(3), 1/np.sqrt(6)],\n",
    "              [1/np.sqrt(2), -1/np.sqrt(3), -1/np.sqrt(6)],\n",
    "              [0, 1/np.sqrt(3), -2/np.sqrt(6)]])\n",
    "\n",
    "# a)\n",
    "inv_W = np.linalg.inv(W)\n",
    "print(f\"Inverse von W: W^-1 = \\n{inv_W}\", \"\\n\", \"-\"*40)\n",
    "\n",
    "# b)\n",
    "prod_XX = X.dot(np.transpose(X))\n",
    "print(f\"Produkt von X*X' = \\n{prod_XX}\", \"\\n\", \"-\"*40)\n",
    "\n",
    "#c)\n",
    "inv_X = np.linalg.inv(X)\n",
    "print(f\"Inverse von X: X^-1 = \\n{inv_X}\")"
   ],
   "metadata": {
    "collapsed": false,
    "pycharm": {
     "name": "#%%\n"
    }
   }
  },
  {
   "cell_type": "markdown",
   "source": [
    "## 5.Task"
   ],
   "metadata": {
    "collapsed": false,
    "pycharm": {
     "name": "#%% md\n"
    }
   }
  },
  {
   "cell_type": "code",
   "execution_count": 228,
   "outputs": [
    {
     "name": "stdout",
     "output_type": "stream",
     "text": [
      "Standardisierte Daten (ohne Centering Matrix): Z = \n",
      "[[-1.161895   -0.8660254  -0.70710678]\n",
      " [ 0.38729833  0.8660254  -0.70710678]\n",
      " [-0.38729833 -0.8660254   1.41421356]\n",
      " [ 1.161895    0.8660254   0.        ]] \n",
      " ----------------------------------------\n",
      "Empirische Korrelationsmatrix von X: Cor(X) = \n",
      "[[ 1.          0.89442719  0.        ]\n",
      " [ 0.89442719  1.         -0.40824829]\n",
      " [ 0.         -0.40824829  1.        ]]\n"
     ]
    }
   ],
   "source": [
    "X = np.array([[-2, -1, 0],\n",
    "              [2, 1, 0],\n",
    "              [0, -1, 3],\n",
    "              [4, 1, 1]])\n",
    "D = np.array([[np.sqrt(20/3), 0, 0],\n",
    "              [0, np.sqrt(4/3), 0],\n",
    "              [0, 0, np.sqrt(2)]])\n",
    "\n",
    "# a)\n",
    "# Merke: Inverse von Diagonalmatrix = Diagonalmatrix nur im Kehrbruch\n",
    "# Merke: axis=0 Spalte, axis=1 Zeile\n",
    "inv_D = np.linalg.inv(D)\n",
    "n, p = X.shape[0], X.shape[1]\n",
    "ones = np.ones((n, 1))\n",
    "X_mean = X.mean(axis=0, keepdims=True)\n",
    "# ddof = delta degree of freedom 1/(n-ddof)*..., in matlab etc default is 1, in this case it is 0\n",
    "X_std = X.std(axis=0, keepdims=True, ddof=1)\n",
    "assert np.array_equal(np.diag(X.std(axis=0, ddof=1)),D), \"Given Standard Derivation from the Exercise does not match computed Standard Derivation by numpy, check if used degree of freedom matches! (argument 'ddof')\"\n",
    "\n",
    "Z1 = (X - X_mean) / X_std\n",
    "Z2 = (X - ones.dot(X_mean)).dot(inv_D)\n",
    "print(f\"Standardisierte Daten (ohne Centering Matrix): Z = \\n{Z1}\", \"\\n\", \"-\"*40)\n",
    "\n",
    "# b)\n",
    "emp_corr1 = np.corrcoef(X, rowvar=False)\n",
    "emp_corr2 = 1/(n-1) * np.transpose(Z1).dot(Z1)\n",
    "print(f\"Empirische Korrelationsmatrix von X: Cor(X) = \\n{emp_corr2}\")"
   ],
   "metadata": {
    "collapsed": false,
    "pycharm": {
     "name": "#%%\n"
    }
   }
  }
 ],
 "metadata": {
  "kernelspec": {
   "display_name": "Python 3",
   "language": "python",
   "name": "python3"
  },
  "language_info": {
   "codemirror_mode": {
    "name": "ipython",
    "version": 2
   },
   "file_extension": ".py",
   "mimetype": "text/x-python",
   "name": "python",
   "nbconvert_exporter": "python",
   "pygments_lexer": "ipython2",
   "version": "2.7.6"
  }
 },
 "nbformat": 4,
 "nbformat_minor": 0
}